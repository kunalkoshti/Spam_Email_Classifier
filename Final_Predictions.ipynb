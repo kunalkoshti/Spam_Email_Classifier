{
 "cells": [
  {
   "cell_type": "code",
   "execution_count": 1,
   "metadata": {},
   "outputs": [],
   "source": [
    "from os import walk\n",
    "from os.path import join \n",
    "import pandas as pd\n",
    "import nltk\n",
    "import numpy as np\n",
    "import seaborn as sns\n",
    "from sklearn.model_selection import train_test_split\n",
    "\n",
    "from wordcloud import WordCloud\n",
    "from nltk.stem import PorterStemmer\n",
    "from bs4 import BeautifulSoup\n",
    "from nltk.corpus import stopwords\n",
    "from nltk.tokenize import word_tokenize\n",
    "import matplotlib.pyplot as plt\n",
    "from PIL import Image\n",
    "%matplotlib inline"
   ]
  },
  {
   "cell_type": "code",
   "execution_count": 2,
   "metadata": {},
   "outputs": [],
   "source": [
    "EXAMPLE_FILE = 'SpamData/01_Processing/practice_email.txt'\n",
    "SPAM_1_PATH = 'SpamData/01_Processing/spam_assassin_corpus/spam_1'\n",
    "SPAM_2_PATH = 'SpamData/01_Processing/spam_assassin_corpus/spam_2'\n",
    "EASY_NONSPAM_1_PATH = 'SpamData/01_Processing/spam_assassin_corpus/easy_ham_1'\n",
    "EASY_NONSPAM_2_PATH = 'SpamData/01_Processing/spam_assassin_corpus/easy_ham_2'\n",
    "DATA_JSON = 'SpamData/01_Processing/email-text-data.json'\n",
    "WHALE_ICON ='SpamData/01_Processing/wordcloud_resources/whale-icon.png'\n",
    "SKULL_ICON ='SpamData/01_Processing/wordcloud_resources/skull-icon.png'\n",
    "THUMBS_UP_ICON ='SpamData/01_Processing/wordcloud_resources/thumbs-up.png'\n",
    "THUMBS_DOWN_ICON ='SpamData/01_Processing/wordcloud_resources/thumbs-down.png'\n",
    "FONTSANS ='SpamData/01_Processing/wordcloud_resources/OpenSansCondensed-Bold.ttf'\n",
    "VOCAB_SIZE = 2500\n",
    "WORD_ID = 'SpamData/01_Processing/word-by-id.csv'\n",
    "\n",
    "TRAINING_DATA = 'SpamData/02_Training/training-data.txt'\n",
    "\n",
    "TEST_DATA = 'SpamData/02_Training/testing-data.txt'\n",
    "\n",
    "\n",
    "TOKEN_SPAM_PROB_FILE = 'SpamData/03_Testing/prob-spam.txt'\n",
    "TOKEN_HAM_PROB_FILE = 'SpamData/03_Testing/prob-nonspam.txt'\n",
    "TOKEN_ALL_PROB_FILE = 'SpamData/03_Testing/prob-all-tokens.txt'\n",
    "\n",
    "TEST_FEATURE_MATRIX = 'SpamData/03_Testing/test-features.txt'\n",
    "TEST_TARGET_FILE = 'SpamData/03_Testing/test-target.txt'"
   ]
  },
  {
   "cell_type": "code",
   "execution_count": 3,
   "metadata": {},
   "outputs": [],
   "source": [
    "x_test = np.loadtxt(TEST_FEATURE_MATRIX,delimiter=' ')\n",
    "y_test = np.loadtxt(TEST_TARGET_FILE,delimiter  = ' ')"
   ]
  },
  {
   "cell_type": "code",
   "execution_count": 4,
   "metadata": {},
   "outputs": [],
   "source": [
    "prob_tokens_spam = np.loadtxt(TOKEN_SPAM_PROB_FILE,delimiter  = ' ')\n",
    "prob_tokens_nonspam = np.loadtxt(TOKEN_HAM_PROB_FILE,delimiter  = ' ')\n",
    "prob_tokens_all = np.loadtxt(TOKEN_ALL_PROB_FILE,delimiter  = ' ')"
   ]
  },
  {
   "cell_type": "code",
   "execution_count": 5,
   "metadata": {},
   "outputs": [
    {
     "data": {
      "text/plain": [
       "array([0.01784799, 0.00820761, 0.00759489, 0.00689131, 0.00659078,\n",
       "       0.00629491, 0.00625064, 0.00488309, 0.00469439, 0.00454063,\n",
       "       0.00452665, 0.004296  , 0.00436124, 0.00441948, 0.00405604,\n",
       "       0.00414923, 0.00427271, 0.00385103, 0.00353885, 0.00316842])"
      ]
     },
     "execution_count": 5,
     "metadata": {},
     "output_type": "execute_result"
    }
   ],
   "source": [
    "prob_tokens_all[:20]"
   ]
  },
  {
   "cell_type": "code",
   "execution_count": 6,
   "metadata": {},
   "outputs": [],
   "source": [
    "PROB_SPAM = 0.316"
   ]
  },
  {
   "cell_type": "code",
   "execution_count": 8,
   "metadata": {},
   "outputs": [
    {
     "data": {
      "text/plain": [
       "array([[0., 0., 1., ..., 0., 0., 0.],\n",
       "       [6., 1., 1., ..., 0., 0., 0.],\n",
       "       [0., 0., 1., ..., 0., 0., 0.],\n",
       "       ...,\n",
       "       [6., 1., 1., ..., 0., 0., 0.],\n",
       "       [0., 0., 3., ..., 0., 0., 0.],\n",
       "       [1., 0., 3., ..., 0., 0., 0.]])"
      ]
     },
     "execution_count": 8,
     "metadata": {},
     "output_type": "execute_result"
    }
   ],
   "source": [
    "prob_log_spam = np.log(prob_tokens_spam)\n",
    "prob_log_nonspam = np.log(prob_tokens_nonspam)\n",
    "x_test[:10]"
   ]
  },
  {
   "cell_type": "code",
   "execution_count": 9,
   "metadata": {},
   "outputs": [],
   "source": [
    "joint_log_spam = x_test.dot(prob_log_spam - np.log(prob_tokens_all)) + np.log(PROB_SPAM)"
   ]
  },
  {
   "cell_type": "code",
   "execution_count": 11,
   "metadata": {},
   "outputs": [
    {
     "data": {
      "text/plain": [
       "array([  24.30761168,    2.17929498,   20.61090365,   17.78426674,\n",
       "         20.53802506,  -12.76123489,   27.23966527,    2.17929498,\n",
       "         13.60537857, -119.69734501])"
      ]
     },
     "execution_count": 11,
     "metadata": {},
     "output_type": "execute_result"
    }
   ],
   "source": [
    "\n",
    "joint_log_spam[:10]"
   ]
  },
  {
   "cell_type": "code",
   "execution_count": 12,
   "metadata": {},
   "outputs": [],
   "source": [
    "joint_log_nonspam = x_test.dot(prob_log_nonspam - np.log(prob_tokens_all)) + np.log(1 - PROB_SPAM)"
   ]
  },
  {
   "cell_type": "code",
   "execution_count": 13,
   "metadata": {},
   "outputs": [
    {
     "data": {
      "text/plain": [
       "array([-60.98668371, -11.01940213, -37.97838884, -59.15251465,\n",
       "       -53.80668088,  -6.89731919, -53.1984252 , -11.01940213,\n",
       "       -37.80532362,  -2.37264151])"
      ]
     },
     "execution_count": 13,
     "metadata": {},
     "output_type": "execute_result"
    }
   ],
   "source": [
    "joint_log_nonspam[:10]"
   ]
  },
  {
   "cell_type": "code",
   "execution_count": 14,
   "metadata": {},
   "outputs": [
    {
     "data": {
      "text/plain": [
       "[1, 0, 0, 0, 0]"
      ]
     },
     "execution_count": 14,
     "metadata": {},
     "output_type": "execute_result"
    }
   ],
   "source": [
    "# Making Predictions\n",
    "\n",
    "predictions = []\n",
    "for i in range(len(joint_log_spam)):\n",
    "    if joint_log_spam[i]>joint_log_nonspam[i]:\n",
    "        predictions.append(1)\n",
    "    else:\n",
    "        predictions.append(0)\n",
    "\n",
    "        \n",
    "        \n",
    "        \n",
    "        \n",
    "predictions[-5:]"
   ]
  },
  {
   "cell_type": "code",
   "execution_count": 15,
   "metadata": {},
   "outputs": [
    {
     "data": {
      "text/plain": [
       "array([0., 0., 0., 0., 0.])"
      ]
     },
     "execution_count": 15,
     "metadata": {},
     "output_type": "execute_result"
    }
   ],
   "source": [
    "y_test[-5:]"
   ]
  },
  {
   "cell_type": "code",
   "execution_count": 16,
   "metadata": {},
   "outputs": [],
   "source": [
    "joint_log_nonspam = x_test.dot(prob_log_nonspam ) + np.log(1 - PROB_SPAM)\n",
    "joint_log_spam = x_test.dot(prob_log_spam ) + np.log(PROB_SPAM)"
   ]
  },
  {
   "cell_type": "code",
   "execution_count": 17,
   "metadata": {},
   "outputs": [],
   "source": [
    "r = abs(y_test - predictions).sum()\n",
    "s = y_test.size"
   ]
  },
  {
   "cell_type": "code",
   "execution_count": 18,
   "metadata": {},
   "outputs": [
    {
     "data": {
      "text/plain": [
       "0.9773781902552204"
      ]
     },
     "execution_count": 18,
     "metadata": {},
     "output_type": "execute_result"
    }
   ],
   "source": [
    "(s-r)/s"
   ]
  },
  {
   "cell_type": "code",
   "execution_count": 70,
   "metadata": {},
   "outputs": [
    {
     "data": {
      "text/plain": [
       "39.0"
      ]
     },
     "execution_count": 70,
     "metadata": {},
     "output_type": "execute_result"
    }
   ],
   "source": [
    "r"
   ]
  },
  {
   "cell_type": "code",
   "execution_count": 35,
   "metadata": {},
   "outputs": [
    {
     "data": {
      "text/plain": [
       "<matplotlib.collections.PathCollection at 0x28e171d4e20>"
      ]
     },
     "execution_count": 35,
     "metadata": {},
     "output_type": "execute_result"
    },
    {
     "data": {
      "image/png": "[encoded data removed]",
      "text/plain": [
       "<Figure size 720x504 with 1 Axes>"
      ]
     },
     "metadata": {
      "needs_background": "light"
     },
     "output_type": "display_data"
    }
   ],
   "source": [
    "yaxis_label = 'P(X | Spam)'\n",
    "xaxis_label = 'P(X | Nonspam)'\n",
    "plt.figure(figsize=[10,7])\n",
    "plt.xlabel(xaxis_label)\n",
    "plt.ylabel(yaxis_label)\n",
    "plt.xlim(left = -1000,right = 0)\n",
    "plt.ylim(bottom = -1000,top = 0)\n",
    "linedata = np.linspace(start = -10000,stop = 0,num=1000)\n",
    "plt.plot(linedata,linedata,color = 'red')\n",
    "plt.scatter(joint_log_nonspam,joint_log_spam,alpha = 0.9,s = 10)"
   ]
  },
  {
   "cell_type": "code",
   "execution_count": 38,
   "metadata": {},
   "outputs": [
    {
     "data": {
      "text/plain": [
       "(array([0, 1]), array([1136,  588], dtype=int64))"
      ]
     },
     "execution_count": 38,
     "metadata": {},
     "output_type": "execute_result"
    }
   ],
   "source": [
    "np.unique(predictions,return_counts=True)"
   ]
  },
  {
   "cell_type": "code",
   "execution_count": 55,
   "metadata": {},
   "outputs": [],
   "source": [
    "true_pos = (((y_test) == 1.) & (predictions == 1))"
   ]
  },
  {
   "cell_type": "code",
   "execution_count": 58,
   "metadata": {},
   "outputs": [
    {
     "data": {
      "text/plain": [
       "569.0"
      ]
     },
     "execution_count": 58,
     "metadata": {},
     "output_type": "execute_result"
    }
   ],
   "source": [
    "y_test.dot(predictions)"
   ]
  },
  {
   "cell_type": "code",
   "execution_count": 60,
   "metadata": {},
   "outputs": [],
   "source": [
    "true_pos = 569"
   ]
  },
  {
   "cell_type": "code",
   "execution_count": 62,
   "metadata": {},
   "outputs": [
    {
     "data": {
      "text/plain": [
       "19.0"
      ]
     },
     "execution_count": 62,
     "metadata": {},
     "output_type": "execute_result"
    }
   ],
   "source": [
    "false_pos = (1-y_test).dot(predictions)\n",
    "false_pos"
   ]
  },
  {
   "cell_type": "code",
   "execution_count": 69,
   "metadata": {},
   "outputs": [
    {
     "data": {
      "text/plain": [
       "20.0"
      ]
     },
     "execution_count": 69,
     "metadata": {},
     "output_type": "execute_result"
    }
   ],
   "source": [
    "false_neg = (np.array(1) - predictions).dot( y_test)\n",
    "false_neg"
   ]
  },
  {
   "cell_type": "code",
   "execution_count": 73,
   "metadata": {},
   "outputs": [],
   "source": [
    "recall = true_pos/(true_pos + false_neg)"
   ]
  },
  {
   "cell_type": "code",
   "execution_count": 74,
   "metadata": {},
   "outputs": [],
   "source": [
    "precision = true_pos/(true_pos + false_pos)"
   ]
  },
  {
   "cell_type": "code",
   "execution_count": 77,
   "metadata": {},
   "outputs": [],
   "source": [
    "F_score = 2*recall*precision/(recall + precision)"
   ]
  },
  {
   "cell_type": "code",
   "execution_count": 78,
   "metadata": {},
   "outputs": [
    {
     "data": {
      "text/plain": [
       "0.9668649107901445"
      ]
     },
     "execution_count": 78,
     "metadata": {},
     "output_type": "execute_result"
    }
   ],
   "source": [
    "F_score"
   ]
  },
  {
   "cell_type": "code",
   "execution_count": null,
   "metadata": {},
   "outputs": [],
   "source": [
    " "
   ]
  }
 ],
 "metadata": {
  "kernelspec": {
   "display_name": "Python 3",
   "language": "python",
   "name": "python3"
  },
  "language_info": {
   "codemirror_mode": {
    "name": "ipython",
    "version": 3
   },
   "file_extension": ".py",
   "mimetype": "text/x-python",
   "name": "python",
   "nbconvert_exporter": "python",
   "pygments_lexer": "ipython3",
   "version": "3.8.3"
  }
 },
 "nbformat": 4,
 "nbformat_minor": 4
}
